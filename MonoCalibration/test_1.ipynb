{
 "cells": [
  {
   "cell_type": "code",
   "execution_count": 23,
   "metadata": {},
   "outputs": [
    {
     "name": "stdout",
     "output_type": "stream",
     "text": [
      "total error:  0.11371733041537643\n"
     ]
    }
   ],
   "source": [
    "import cv2\n",
    "import numpy as np\n",
    "import glob\n",
    "from numpy import array as matrix, arange\n",
    "\n",
    "# 找棋盘格角点\n",
    "# 阈值\n",
    "criteria = (cv2.TERM_CRITERIA_EPS + cv2.TERM_CRITERIA_MAX_ITER, 30, 0.001)\n",
    "# w h分别是棋盘格模板长边和短边规格（角点个数）\n",
    "w = 7\n",
    "h = 7 \n",
    "\n",
    "# 世界坐标系中的棋盘格点,例如(0,0,0), (1,0,0), (2,0,0) ....,(8,5,0)，去掉Z坐标，记为二维矩阵，认为在棋盘格这个平面上Z=0\n",
    "objp = np.zeros((w * h, 3), np.float32)  # 构造0矩阵，88行3列，用于存放角点的世界坐标\n",
    "objp[:, :2] = np.mgrid[0:w, 0:h].T.reshape(-1, 2)  # 三维网格坐标划分\n",
    "\n",
    "# 储存棋盘格角点的世界坐标和图像坐标对\n",
    "objpoints = []  # 在世界坐标系中的三维点\n",
    "imgpoints = []  # 在图像平面的二维点\n",
    "record = []\n",
    "\n",
    "switch = 'right'\n",
    "\n",
    "images = glob.glob('./'+ switch + '/images/*.jpg')\n",
    "for fname in images:\n",
    "    img = cv2.imread(fname)\n",
    "    gray = cv2.cvtColor(img, cv2.COLOR_BGR2GRAY)\n",
    "    # 粗略找到棋盘格角点 这里找到的是这张图片中角点的亚像素点位置，共11×8 = 88个点，gray必须是8位灰度或者彩色图，（w,h）为角点规模\n",
    "    ret, corners = cv2.findChessboardCorners(gray, (w, h))\n",
    "    # 如果找到足够点对，将其存储起来\n",
    "    if ret == True:\n",
    "        record.append(fname)\n",
    "        # 精确找到角点坐标\n",
    "        corners = cv2.cornerSubPix(gray, corners, (11, 11), (-1, -1), criteria)\n",
    "\n",
    "        # 将正确的objp点放入objpoints中\n",
    "        objpoints.append(objp)\n",
    "        imgpoints.append(corners)\n",
    "        # 将角点在图像上显示\n",
    "        \n",
    "# 标定 返回标定结果、相机的内参数矩阵、畸变系数、旋转矩阵和平移向量\n",
    "ret, mtx, dist, rvecs, tvecs = cv2.calibrateCamera(objpoints, imgpoints, gray.shape[::-1], None, None)\n",
    "\n",
    "\n",
    "# 去畸变\n",
    "# img2 = cv2.imread('./' + switch + '/images/test.jpg')\n",
    "# h, w = img2.shape[:2]\n",
    "# newcameramtx, roi = cv2.getOptimalNewCameraMatrix(mtx, dist, (w, h), 1, (w, h))  # 自由比例参数\n",
    "# dst = cv2.undistort(img2, mtx, dist, None, newcameramtx)\n",
    "# # 根据前面ROI区域裁剪图片\n",
    "# x, y, w, h = roi\n",
    "# dst = dst[y:y + h, x:x + w]\n",
    "# cv2.imshow('fin', dst)\n",
    "# cv2.imwrite('./fin.png', dst)\n",
    "# cv2.waitKey()\n",
    "# cv2.destroyAllWindows()\n",
    "\n",
    "# 反投影误差\n",
    "total_error = 0\n",
    "for i in range(len(objpoints)):\n",
    "    imgpoints2, _ = cv2.projectPoints(objpoints[i], rvecs[i], tvecs[i], mtx, dist)\n",
    "    error = cv2.norm(imgpoints[i], imgpoints2, cv2.NORM_L2) / len(imgpoints2)\n",
    "    total_error += error\n",
    "print(\"total error: \", total_error / len(objpoints))\n"
   ]
  },
  {
   "cell_type": "code",
   "execution_count": 19,
   "metadata": {},
   "outputs": [],
   "source": [
    "np.savetxt('./' + switch + '/ret.csv', ret, fmt='%f', delimiter=',')\n",
    "np.savetxt('./' + switch + '/intrinx_mtx.csv', mtx, fmt='%f', delimiter=',') # 内参矩阵\n",
    "np.savetxt('./' + switch + '/distortion.csv', dist, fmt='%f', delimiter=',') # 畸变参数"
   ]
  },
  {
   "cell_type": "code",
   "execution_count": 20,
   "metadata": {},
   "outputs": [
    {
     "name": "stdout",
     "output_type": "stream",
     "text": [
      "abcdef\n"
     ]
    }
   ],
   "source": [
    "print('abc'+ 'def')"
   ]
  }
 ],
 "metadata": {
  "kernelspec": {
   "display_name": "Python 3.8.8 ('base')",
   "language": "python",
   "name": "python3"
  },
  "language_info": {
   "codemirror_mode": {
    "name": "ipython",
    "version": 3
   },
   "file_extension": ".py",
   "mimetype": "text/x-python",
   "name": "python",
   "nbconvert_exporter": "python",
   "pygments_lexer": "ipython3",
   "version": "3.8.8"
  },
  "orig_nbformat": 4,
  "vscode": {
   "interpreter": {
    "hash": "88279d2366fe020547cde40dd65aa0e3aa662a6ec1f3ca12d88834876c85e1a6"
   }
  }
 },
 "nbformat": 4,
 "nbformat_minor": 2
}
